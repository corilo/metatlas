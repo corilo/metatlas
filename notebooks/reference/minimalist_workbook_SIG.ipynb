{
 "cells": [
  {
   "cell_type": "markdown",
   "metadata": {},
   "source": [
    "# Instructions"
   ]
  },
  {
   "cell_type": "markdown",
   "metadata": {},
   "source": [
    "# MetAltas targeted analysis workflow - streamlined"
   ]
  },
  {
   "cell_type": "markdown",
   "metadata": {},
   "source": [
    "NOTES:\n",
    "+ right now the package import statements and wrapper functions are in one big file (*metatlas_targeted_wrapper_functions.py*) that gets imported - not sure what is best practice in python\n",
    "+ RT adjuster nb has: `import matplotlib.pyplot as plt` while main nb has `import matplotlib.pyplot as plot`  --> i changed everything here to `plot`\n",
    "+ For simplicty, for now I took out the code to upload an atlas from a spreadsheet - all the code here uses the list of atlases that are already in the database supplied by Katherine.\n",
    "+ i made a new Class for RT_model which holds a name, coef, and intercept. create_rt_adjustment_model passes back two instances of this class - one for linear, one for poly - and the user choses which one to pass to apply_rt_adjustment\n",
    "+ this is set up to calculate and pickle a new hits variable once for each atlas version - not sure if that's correct?\n",
    "+ i added two small functions to help with adjusting RT bars\n",
    "    + `find_isomers` finds any other compounds in the atlas with the same mz\n",
    "    + `get_compound_notes` takes a csv file as input with the following columns: 'label' 'polarity' 'note' (at least, any order is ok) and prints any rows where label matches the label of a compound of interest in the current atlas \n",
    "+ the `export_results` function checks to see whether plot directories are empty before adding new plots to them\n",
    "    + there is a parameter `remove_existing_plots` which is set to False by default\n",
    "    + if False, a warning will be printed when a plot directory isn't empty and no new plots will be generated\n",
    "    + if True, the existing directory will be removed before new plots are generated\n",
    "+ things to do:\n",
    "    + make a function that restarts the kernel\n",
    "    + implement checkpoint files so its clear what's already been run"
   ]
  },
  {
   "cell_type": "markdown",
   "metadata": {},
   "source": [
    "### Parameters\n",
    "Run these two blocks after every kernel reset"
   ]
  },
  {
   "cell_type": "code",
   "execution_count": null,
   "metadata": {},
   "outputs": [],
   "source": [
    "### user-specific parameters\n",
    "scripts_dir='/global/homes/g/greensi/scripts/metatlas' # <- EDIT THIS directory where metatlas repo code is\n",
    "project_directory='/global/homes/g/greensi/metatlasData'    # <- EDIT THIS directory to store all output data\n",
    "my_id='%SIGv1%' # <- EDIT THIS personal identifier\n",
    "username='greensi' # <- EDIT THIS\n",
    "\n",
    "import sys, os\n",
    "sys.path.insert(0,scripts_dir)\n",
    "    "
   ]
  },
  {
   "cell_type": "code",
   "execution_count": 1,
   "metadata": {},
   "outputs": [],
   "source": [
    "### analysis-specific parameters\n",
    "project_name='20210115_JGI-AK_SR-KP_506299_Toblongifolia_final_QE-HF_HILICZ_USHXG01531' # <- EDIT THIS"
   ]
  },
  {
   "cell_type": "markdown",
   "metadata": {},
   "source": [
    "### Import Packages and Functions \n",
    "run this after every kernel restart"
   ]
  },
  {
   "cell_type": "code",
   "execution_count": null,
   "metadata": {},
   "outputs": [],
   "source": [
    "%matplotlib notebook\n",
    "from metatlas_targeted_wrapper_functions import * # <- the file metatlas_targeted_wrapper_functions.py must be on your path\n",
    "\n",
    "# CHECK FOR SUCCESS\n",
    "if(fa.__file__ != scripts_dir+\"/metatlas/tools/fastanalysis.py\"):\n",
    "    print(\"error: fa.__file__ is \"+fa.__file__)\n",
    "else:\n",
    "    print(\"setup successful\")\n"
   ]
  },
  {
   "cell_type": "markdown",
   "metadata": {},
   "source": [
    "### Step 1: RT-adjust atlases\n",
    "+ Block 1 will print a list of options - pick the desired index and fill in `selected_column=` in Block 2\n",
    "+ Block 2 returns two variables for the two types of models - fill in `model=` with the name of one of them in Block 3\n",
    "+ Restart after block 3"
   ]
  },
  {
   "cell_type": "code",
   "execution_count": null,
   "metadata": {},
   "outputs": [],
   "source": [
    "## extra packages for rt-adjustment\n",
    "%matplotlib inline\n",
    "%env HDF5_USE_FILE_LOCKING=FALSE\n",
    "from __future__ import division\n",
    "import itertools\n",
    "import math\n",
    "from matplotlib import gridspec\n",
    "import matplotlib.ticker as mticker\n",
    "from sklearn.linear_model import LinearRegression, RANSACRegressor\n",
    "from sklearn.preprocessing import PolynomialFeatures\n",
    "from sklearn.metrics import mean_absolute_error as mae\n",
    "\n",
    "analysis_round = \"data_qc\"\n",
    "output_dir=setup_notebook(project_directory,project_name,analysis_round)"
   ]
  },
  {
   "cell_type": "code",
   "execution_count": null,
   "metadata": {},
   "outputs": [],
   "source": [
    "# block 1 - only run this once!! (it creates groups for the project)\n",
    "rts_df, atlas_df, myAtlas = setup_rt_adjustment(project_name,my_id,output_dir)  "
   ]
  },
  {
   "cell_type": "code",
   "execution_count": null,
   "metadata": {},
   "outputs": [],
   "source": [
    "# block 2\n",
    "selected_column = #[0-9]\n",
    "model_linear, model_poly = create_rt_adjustment_model(selected_column,rts_df,atlas_df)"
   ]
  },
  {
   "cell_type": "code",
   "execution_count": null,
   "metadata": {},
   "outputs": [],
   "source": [
    "# block 3\n",
    "model = #model_linear or model_poly\n",
    "apply_rt_adjustment(model,project_name,my_id,output_dir)"
   ]
  },
  {
   "cell_type": "code",
   "execution_count": null,
   "metadata": {},
   "outputs": [],
   "source": [
    "## RESTART"
   ]
  },
  {
   "cell_type": "markdown",
   "metadata": {},
   "source": [
    "### Step 2: Adjust RT bounds"
   ]
  },
  {
   "cell_type": "markdown",
   "metadata": {},
   "source": [
    "#### 2a. choose setup\n",
    "+ run one of the following blocks to select or change which run mode you're working on\n",
    "+ your selection will be saved to a text file and read in automatically every time you run the blocks in the following sections"
   ]
  },
  {
   "cell_type": "code",
   "execution_count": null,
   "metadata": {},
   "outputs": [],
   "source": [
    "analysis_round='ISTD' \n",
    "polarity=\"POS\"\n",
    "write_run_options(project_directory,project_name,analysis_round,polarity)"
   ]
  },
  {
   "cell_type": "code",
   "execution_count": null,
   "metadata": {},
   "outputs": [],
   "source": [
    "analysis_round='ISTD'  \n",
    "polarity=\"NEG\"\n",
    "write_run_options(project_directory,project_name,analysis_round,polarity)"
   ]
  },
  {
   "cell_type": "code",
   "execution_count": null,
   "metadata": {},
   "outputs": [],
   "source": [
    "analysis_round='FINAL' \n",
    "polarity=\"POS\"\n",
    "write_run_options(project_directory,project_name,analysis_round,polarity)"
   ]
  },
  {
   "cell_type": "code",
   "execution_count": null,
   "metadata": {},
   "outputs": [],
   "source": [
    "analysis_round='FINAL'\n",
    "polarity=\"NEG\"\n",
    "write_run_options(project_directory,project_name,analysis_round,polarity)"
   ]
  },
  {
   "cell_type": "markdown",
   "metadata": {},
   "source": [
    "#### 2b. choose an atlas\n",
    "+ run these two blocks every time you restart kernel or select a new setup above"
   ]
  },
  {
   "cell_type": "code",
   "execution_count": null,
   "metadata": {},
   "outputs": [],
   "source": [
    "# block 1\n",
    "analysis_round, polarity = read_run_options(project_directory,project_name)\n",
    "output_dir=setup_notebook(project_directory,project_name,analysis_round)\n",
    "atlases_options=pick_atlas(project_name,my_id,analysis_round,polarity,username)"
   ]
  },
  {
   "cell_type": "code",
   "execution_count": null,
   "metadata": {
    "scrolled": true
   },
   "outputs": [],
   "source": [
    "# block 2\n",
    "selected_atlas= 1 # enter an index from the list produced by the code block above\n",
    "final_round=False # set to true when you are ready to export\n",
    "\n",
    "my_atlas=atlases_options[selected_atlas]\n",
    "metatlas_dataset = make_metatlas_dataset(my_atlas,final_round,project_name,my_id,output_dir,polarity)"
   ]
  },
  {
   "cell_type": "markdown",
   "metadata": {},
   "source": [
    "#### 2c. filter atlas \n",
    "make sure you've selected the appropriate atlas by running the two blocks from the previous section"
   ]
  },
  {
   "cell_type": "code",
   "execution_count": null,
   "metadata": {},
   "outputs": [],
   "source": [
    "if analysis_round == \"FINAL\":  ## dont run this block for ISTD\n",
    "    filter_atlas(my_atlas,metatlas_dataset,project_name,my_id,output_dir,polarity,num_data_points_passing = 5,peak_height_passing = 4e5)\n",
    "\n",
    "# RESTART KERNEL"
   ]
  },
  {
   "cell_type": "markdown",
   "metadata": {},
   "source": [
    "#### 2d. adjust rt bars"
   ]
  },
  {
   "cell_type": "code",
   "execution_count": null,
   "metadata": {},
   "outputs": [],
   "source": [
    "hits = get_msms_hits(metatlas_dataset,my_atlas,output_dir) ## will load pickled hits if available"
   ]
  },
  {
   "cell_type": "code",
   "execution_count": null,
   "metadata": {},
   "outputs": [],
   "source": [
    "import warnings; warnings.simplefilter('ignore')\n",
    "a = dp.adjust_rt_for_selected_compound(metatlas_dataset, msms_hits=hits, \n",
    "                                       peak_flags=\"\", msms_flags=\"\", \n",
    "                                       color_me = [['red','ISTD'],['yellow','InjBL'],['blue','Ctrl']], \n",
    "                                       compound_idx=0,alpha=0.5,width=16,height=3) #,y_max = 1e6"
   ]
  },
  {
   "cell_type": "code",
   "execution_count": null,
   "metadata": {},
   "outputs": [],
   "source": [
    "## use this function to find any other compounds in the atlas with the same mz as a specified compound\n",
    "find_isomers(13,my_atlas)"
   ]
  },
  {
   "cell_type": "code",
   "execution_count": null,
   "metadata": {},
   "outputs": [],
   "source": [
    "## use this function to pull up any notes you've stored for a given compound \n",
    "## notes_file should be a csv file with the following columns : 'label' 'polarity' 'note' (any order is ok, can have more columns too)\n",
    "## the 'label' field is used to match compounds in the csv with compounds in the current atlas\n",
    "\n",
    "notes_file=os.path.join(project_directory,\"compound_identification_notes.csv\")\n",
    "get_compound_notes(4,polarity,my_atlas,notes_file)"
   ]
  },
  {
   "cell_type": "code",
   "execution_count": null,
   "metadata": {},
   "outputs": [],
   "source": [
    "# RESTART KERNEL TO APPLY CHANGES"
   ]
  },
  {
   "cell_type": "markdown",
   "metadata": {},
   "source": [
    "#### remove marked compounds"
   ]
  },
  {
   "cell_type": "code",
   "execution_count": null,
   "metadata": {},
   "outputs": [],
   "source": [
    "##  kept_string (default: 'kept') will be appended to the name of the atlas selected in 2b and stored as a new atlas\n",
    "##  change kept_string to something else (ie kept_2, kept_3) if you re-select the original (filtered) atlas and want to make a new version with different compounds removed\n",
    "remove_marked_compounds(metatlas_dataset,my_atlas,polarity,kept_string=\"kept\") "
   ]
  },
  {
   "cell_type": "code",
   "execution_count": null,
   "metadata": {},
   "outputs": [],
   "source": [
    "# RESTART KERNEL TO APPLY CHANGES"
   ]
  },
  {
   "cell_type": "markdown",
   "metadata": {},
   "source": [
    "#### export data"
   ]
  },
  {
   "cell_type": "code",
   "execution_count": null,
   "metadata": {},
   "outputs": [],
   "source": [
    "export_results(metatlas_dataset,hits,my_atlas,output_dir,polarity,remove_existing_plots=False)"
   ]
  }
 ],
 "metadata": {
  "anaconda-cloud": {},
  "kernelspec": {
   "display_name": "metatlas py3",
   "language": "python",
   "name": "metatlas_py3"
  },
  "language_info": {
   "codemirror_mode": {
    "name": "ipython",
    "version": 3
   },
   "file_extension": ".py",
   "mimetype": "text/x-python",
   "name": "python",
   "nbconvert_exporter": "python",
   "pygments_lexer": "ipython3",
   "version": "3.8.6"
  }
 },
 "nbformat": 4,
 "nbformat_minor": 4
}
